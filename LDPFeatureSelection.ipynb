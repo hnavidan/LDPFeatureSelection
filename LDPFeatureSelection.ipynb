{
 "cells": [
  {
   "cell_type": "code",
   "execution_count": 46,
   "metadata": {},
   "outputs": [],
   "source": [
    "import numpy as np\n",
    "import pandas as pd\n",
    "import random\n",
    "import timeit\n",
    "import pickle\n",
    "import sweep\n",
    "import utils\n",
    "import matplotlib.pyplot as plt\n",
    "import matplotlib as mpl\n",
    "from scipy.stats import chi2_contingency\n",
    "from scipy.spatial.distance import hamming"
   ]
  },
  {
   "cell_type": "markdown",
   "metadata": {},
   "source": [
    "## Initializing parametrs"
   ]
  },
  {
   "cell_type": "code",
   "execution_count": null,
   "metadata": {},
   "outputs": [],
   "source": [
    "cms_k = 128\n",
    "cms_m = 1024\n",
    "rappor_k = 64\n",
    "rappor_m = 1024\n",
    "epsilons = [0.1, 0.25, 0.5, 0.75, 1, 2, 3, 5, 7, 10]\n",
    "seed = 123456789"
   ]
  },
  {
   "cell_type": "markdown",
   "metadata": {},
   "source": [
    "## Preprocessing"
   ]
  },
  {
   "cell_type": "markdown",
   "metadata": {},
   "source": [
    "### Census Dataset"
   ]
  },
  {
   "cell_type": "markdown",
   "metadata": {},
   "source": [
    "The [Census-Income (KDD) Dataset](https://archive.ics.uci.edu/ml/datasets/Census-Income+%28KDD%29) consists of 41 features, 2 classes and 198,649 entries. We will select the categorical features, as well as the continuous feature \"age\", which has to be discretized. Based on the values and their frequency, we discretize into into 6 categories. \n",
    "\n",
    "The processed dataset consists of 15 features, 2 classes and 198,649 entries.\n",
    "\n",
    "All of the zeros in the created table are replaced with 10. "
   ]
  },
  {
   "cell_type": "code",
   "execution_count": null,
   "metadata": {},
   "outputs": [],
   "source": [
    "census_df = pd.read_csv(\"./data/census-income.data\", skipinitialspace=True)\n",
    "census_df = census_df.dropna()\n",
    "\n",
    "census_df.loc[census_df.age <= 20, 'agegroup'] = 0\n",
    "census_df.loc[(census_df.age > 20) & (census_df.age <= 30), 'agegroup'] = 1\n",
    "census_df.loc[(census_df.age > 30) & (census_df.age <= 40), 'agegroup'] = 2\n",
    "census_df.loc[(census_df.age > 40) & (census_df.age <= 50), 'agegroup'] = 3\n",
    "census_df.loc[(census_df.age > 50) & (census_df.age <= 60), 'agegroup'] = 4\n",
    "census_df.loc[(census_df.age > 60), 'agegroup'] = 5\n",
    "census_df = census_df.drop('age', axis=1)\n",
    "\n",
    "census_features = ['agegroup', 'class_of_worker', 'education', 'marital_stat', \n",
    "                   'race', 'hispanic_origin', 'sex', 'member_of_a_labor_union', \n",
    "                   'reason_for_unemployment', 'full_or_part_time_employment_stat', \n",
    "                   'tax_filer_stat', 'region_of_previous_residence', \n",
    "                   'num_persons_worked_for_employer',\n",
    "                   'citizenship', 'own_business_or_self_employed']\n",
    "census_X = census_df[census_features]\n",
    "census_Y = census_df['icnome']  "
   ]
  },
  {
   "cell_type": "code",
   "execution_count": null,
   "metadata": {},
   "outputs": [],
   "source": [
    "census_values, census_counts = create_table(census_X, census_Y, census_features)\n",
    "fix_zeros(census_counts, 10) \n",
    "\n",
    "census_data = create_data(census_features, census_counts)"
   ]
  },
  {
   "cell_type": "markdown",
   "metadata": {},
   "source": [
    "### Nursery Dataset"
   ]
  },
  {
   "cell_type": "markdown",
   "metadata": {},
   "source": [
    "The [Nursery Dataset](https://archive.ics.uci.edu/ml/datasets/nursery) consists of 8 features, 5 classes and 12,960 entries. All of the features are categorical; however, the \"health\" feature is not considered. Because of very low frequency, entries with the class \"recommend\" are removed.\n",
    "\n",
    "The processed dataset consists of 7 features, 4 classes and 12,958 entries.\n",
    "\n",
    "All of the zeros in the created table are replaced with 10. "
   ]
  },
  {
   "cell_type": "code",
   "execution_count": null,
   "metadata": {},
   "outputs": [],
   "source": [
    "nursery_df = pd.read_csv(\"nursery.data\", skipinitialspace=True)\n",
    "nursery_df = nursery_df.drop(nursery_df[nursery_df['class'] == 'recommend'].index)\n",
    "nursery_features = ['parents', 'has_nurs', 'form', 'children', 'housing', 'finance', 'social']\n",
    "nursery_X = nursery_df[nursery_features]\n",
    "nursery_Y = nursery_df['class']  "
   ]
  },
  {
   "cell_type": "code",
   "execution_count": null,
   "metadata": {},
   "outputs": [],
   "source": [
    "nursery_values, nursery_counts = create_table(nursery_X, nursery_Y, nursery_features)\n",
    "fix_zeros(nursery_counts, 10)\n",
    "  \n",
    "nursery_data = create_data(nursery_features, nursery_counts)"
   ]
  },
  {
   "cell_type": "markdown",
   "metadata": {},
   "source": [
    "### Contraceptive Dataset"
   ]
  },
  {
   "cell_type": "markdown",
   "metadata": {},
   "source": [
    "The [Contraceptive Method Choice (CMC) Dataset](https://archive.ics.uci.edu/ml/datasets/Contraceptive+Method+Choice) consists of 9 features, 3 classes and 1,473 entries. All of the features except \"age\" are categorical. Hence, we discretize the \"age\" feature into 4 categories. Furthermore, \"children\" feature has been altered so that entries with more than 6 children will be represented as having 6.\n",
    "\n",
    "The processed dataset consists of 9 features, 3 classes and 1,473 entries.\n",
    "\n",
    "All of the zeros in the created table are replaced with 5. "
   ]
  },
  {
   "cell_type": "code",
   "execution_count": null,
   "metadata": {},
   "outputs": [],
   "source": [
    "cmc_df = pd.read_csv(\"cmc.data\", skipinitialspace=True)\n",
    "cmc_df.loc[cmc_df.age <= 20, 'agegroup'] = 0\n",
    "cmc_df.loc[(cmc_df.age > 20) & (cmc_df.age <= 30), 'agegroup'] = 1\n",
    "cmc_df.loc[(cmc_df.age > 30) & (cmc_df.age <= 40), 'agegroup'] = 2\n",
    "cmc_df.loc[(cmc_df.age > 40), 'agegroup'] = 3\n",
    "cmc_df = cmc_df.drop('age', axis=1)\n",
    "cmc_df.loc[cmc_df.children >= 6, 'children'] = 6\n",
    "cmc_df = cmc_df.dropna()\n",
    "cmc_features = ['agegroup', 'education', 'husband_education', 'children',\n",
    "                'religion', 'working', 'husband_occupation', 'living_index', \n",
    "                'exposure']\n",
    "cmc_X = cmc_df[cmc_features]\n",
    "cmc_Y = cmc_df['contraceptive']  "
   ]
  },
  {
   "cell_type": "code",
   "execution_count": null,
   "metadata": {},
   "outputs": [],
   "source": [
    "cmc_values, cmc_counts = create_table(cmc_X, cmc_Y, cmc_features)\n",
    "fix_zeros(cmc_counts, 5)\n",
    "\n",
    "cmc_data = create_data(cmc_features, cmc_counts)"
   ]
  },
  {
   "cell_type": "markdown",
   "metadata": {},
   "source": [
    "### Mushroom Dataset"
   ]
  },
  {
   "cell_type": "markdown",
   "metadata": {},
   "source": [
    "The [Mushroom Dataset](https://archive.ics.uci.edu/ml/datasets/mushroom) consists of 22 features, 2 classes and 8,124 entries. All of the features are categorical. The feature \"veil_type\" has been removed, since it only has one possible value.\n",
    "\n",
    "The processed dataset consists of 21 features, 2 classes and 8,124 entries.\n",
    "\n",
    "All of the zeros in the created table are replaced with 10. "
   ]
  },
  {
   "cell_type": "code",
   "execution_count": null,
   "metadata": {},
   "outputs": [],
   "source": [
    "mushroom_df = pd.read_csv(\"agaricus-lepiota.data\", skipinitialspace=True)\n",
    "mushroom_features = list(mushroom_df.columns)\n",
    "mushroom_features.remove('edible')\n",
    "mushroom_features.remove('veil_type')\n",
    "mushroom_X = mushroom_df[mushroom_features]\n",
    "mushroom_Y = mushroom_df['edible']  "
   ]
  },
  {
   "cell_type": "code",
   "execution_count": null,
   "metadata": {},
   "outputs": [],
   "source": [
    "mushroom_values, mushroom_counts = create_table(mushroom_X, mushroom_Y, mushroom_features)\n",
    "fix_zeros(mushroom_counts, 10)\n",
    "  \n",
    "mushroom_data = create_data(mushroom_features, mushroom_counts)"
   ]
  },
  {
   "cell_type": "markdown",
   "metadata": {},
   "source": [
    "### Obesity Dataset"
   ]
  },
  {
   "cell_type": "markdown",
   "metadata": {},
   "source": [
    "The [Estimation of Obesity Dataset](https://archive.ics.uci.edu/ml/datasets/Estimation+of+obesity+levels+based+on+eating+habits+and+physical+condition+) consists of 16 features, 7 classes and 2,111 entries. Some of the useful features including \"Age\", \"Height\", \"Weight\", \"FCVC\", \"NCP\", and \"CH2O\" are continuous numerical features limited to a range. Therefore, they can be discretized according to their values.\n",
    "\n",
    "The Processed dataset consists of 14 features, 7 classes and 2,111 entries.\n",
    "\n",
    "All of the zeros in the created table are replaced with 1. "
   ]
  },
  {
   "cell_type": "code",
   "execution_count": null,
   "metadata": {},
   "outputs": [],
   "source": [
    "obesity_df = pd.read_csv(\"obesity.csv\", skipinitialspace=True)\n",
    "obesity_df.loc[obesity_df.Age <= 18, 'Agegroup'] = 0\n",
    "obesity_df.loc[(obesity_df.Age > 18) & (obesity_df.Age <= 20), 'Agegroup'] = 1\n",
    "obesity_df.loc[(obesity_df.Age > 20) & (obesity_df.Age <= 25), 'Agegroup'] = 2\n",
    "obesity_df.loc[(obesity_df.Age > 25) & (obesity_df.Age <= 30), 'Agegroup'] = 3\n",
    "obesity_df.loc[(obesity_df.Age > 30), 'Agegroup'] = 4\n",
    "obesity_df = obesity_df.drop('Age', axis=1)\n",
    "obesity_df.loc[obesity_df.Height <= 1.5, 'Heightgroup'] = 0\n",
    "obesity_df.loc[(obesity_df.Height > 1.5) & (obesity_df.Height <= 1.6), 'Heightgroup'] = 1\n",
    "obesity_df.loc[(obesity_df.Height > 1.6) & (obesity_df.Height <= 1.7), 'Heightgroup'] = 2\n",
    "obesity_df.loc[(obesity_df.Height > 1.7) & (obesity_df.Height <= 1.8), 'Heightgroup'] = 3\n",
    "obesity_df.loc[(obesity_df.Height > 1.8) & (obesity_df.Height <= 1.9), 'Heightgroup'] = 4\n",
    "obesity_df.loc[(obesity_df.Height > 1.9), 'Heightgroup'] = 5\n",
    "obesity_df = obesity_df.drop('Height', axis=1)\n",
    "obesity_df.loc[obesity_df.Weight <= 50, 'Weightgroup'] = 0\n",
    "obesity_df.loc[(obesity_df.Weight > 50) & (obesity_df.Weight <= 60), 'Weightgroup'] = 1\n",
    "obesity_df.loc[(obesity_df.Weight > 60) & (obesity_df.Weight <= 70), 'Weightgroup'] = 2\n",
    "obesity_df.loc[(obesity_df.Weight > 70) & (obesity_df.Weight <= 80), 'Weightgroup'] = 3\n",
    "obesity_df.loc[(obesity_df.Weight > 80) & (obesity_df.Weight <= 90), 'Weightgroup'] = 4\n",
    "obesity_df.loc[(obesity_df.Weight > 90) & (obesity_df.Weight <= 100), 'Weightgroup'] = 5\n",
    "obesity_df.loc[(obesity_df.Weight > 100) & (obesity_df.Weight <= 110), 'Weightgroup'] = 6\n",
    "obesity_df.loc[(obesity_df.Weight > 110) & (obesity_df.Weight <= 120), 'Weightgroup'] = 7\n",
    "obesity_df.loc[(obesity_df.Weight > 120), 'Weightgroup'] = 8\n",
    "obesity_df = obesity_df.drop('Weight', axis=1)\n",
    "obesity_df.loc[obesity_df.FCVC <= 1, 'FCVCgroup'] = 0\n",
    "obesity_df.loc[(obesity_df.FCVC > 1) & (obesity_df.FCVC <= 1.5), 'FCVCgroup'] = 1\n",
    "obesity_df.loc[(obesity_df.FCVC > 1.5) & (obesity_df.FCVC <= 2), 'FCVCgroup'] = 2\n",
    "obesity_df.loc[(obesity_df.FCVC > 2) & (obesity_df.FCVC <= 2.5), 'FCVCgroup'] = 3\n",
    "obesity_df.loc[(obesity_df.FCVC > 2.5), 'FCVCgroup'] = 4\n",
    "obesity_df = obesity_df.drop('FCVC', axis=1)\n",
    "obesity_df.loc[obesity_df.NCP <= 1, 'NCPgroup'] = 0\n",
    "obesity_df.loc[(obesity_df.NCP > 1) & (obesity_df.NCP <= 2), 'NCPgroup'] = 1\n",
    "obesity_df.loc[(obesity_df.NCP > 2) & (obesity_df.NCP <= 3), 'NCPgroup'] = 2\n",
    "obesity_df.loc[(obesity_df.NCP > 3), 'NCPgroup'] = 3\n",
    "obesity_df = obesity_df.drop('NCP', axis=1)\n",
    "obesity_df.loc[obesity_df.CH2O <= 1.5, 'CH2Ogroup'] = 0\n",
    "obesity_df.loc[(obesity_df.CH2O > 1.5) & (obesity_df.CH2O <= 2), 'CH2Ogroup'] = 1\n",
    "obesity_df.loc[(obesity_df.CH2O > 2) & (obesity_df.CH2O <= 2.5), 'CH2Ogroup'] = 2\n",
    "obesity_df.loc[(obesity_df.CH2O > 2.5), 'CH2Ogroup'] = 3\n",
    "obesity_df = obesity_df.drop('CH2O', axis=1)\n",
    "obesity_df = obesity_df.dropna()\n",
    "obesity_features = ['Gender', 'Agegroup', 'Heightgroup', 'Weightgroup', \n",
    "                    'family_history_with_overweight','FAVC', 'FCVCgroup', \n",
    "                    'NCPgroup', 'CAEC', 'SMOKE', 'CH2Ogroup', 'SCC', 'CALC', 'MTRANS']\n",
    "obesity_X = obesity_df[obesity_features]\n",
    "obesity_Y = obesity_df['NObeyesdad']  "
   ]
  },
  {
   "cell_type": "code",
   "execution_count": null,
   "metadata": {},
   "outputs": [],
   "source": [
    "obesity_values, obesity_counts = create_table(obesity_X, obesity_Y, obesity_features)\n",
    "fix_zeros(obesity_counts, 1)\n",
    "  \n",
    "obesity_data = create_data(obesity_features, obesity_counts)"
   ]
  },
  {
   "cell_type": "markdown",
   "metadata": {},
   "source": [
    "### Biology Dataset"
   ]
  },
  {
   "cell_type": "markdown",
   "metadata": {},
   "source": [
    "The [Molecular Biology](https://archive.ics.uci.edu/ml/datasets/Molecular+Biology+%28Splice-junction+Gene+Sequences%29) consists of 60 features, 3 classes and 3,190 entries. All of the features are categorical. The ambiguity values (values except the four DNA bases) are removed. \n",
    "\n",
    "The Processed dataset consists of 60 features, 3 classes and 3,175 entries.\n",
    "\n",
    "All of the zeros in the created table are replaced with 5. "
   ]
  },
  {
   "cell_type": "code",
   "execution_count": null,
   "metadata": {},
   "outputs": [],
   "source": [
    "splice_df = pd.read_csv(\"splice.data\", skipinitialspace=True)\n",
    "splice_features = list(splice_df.columns)\n",
    "splice_features.remove('class')\n",
    "for _, feature in enumerate(splice_features):\n",
    "    splice_df.drop(splice_df[(splice_df[feature] != 'G') & (splice_df[feature] != 'C') & \n",
    "               (splice_df[feature] != 'T') & (splice_df[feature] != 'A')].index, inplace=True)\n",
    "\n",
    "splice_X = splice_df[splice_features]\n",
    "splice_Y = splice_df['class']  "
   ]
  },
  {
   "cell_type": "code",
   "execution_count": null,
   "metadata": {},
   "outputs": [],
   "source": [
    "splice_values, splice_counts = create_table(splice_X, splice_Y, splice_features)\n",
    "fix_zeros(splice_counts, 5)\n",
    "  \n",
    "splice_data = create_data(splice_features, splice_counts)"
   ]
  },
  {
   "cell_type": "markdown",
   "metadata": {},
   "source": [
    "## Runtime"
   ]
  },
  {
   "cell_type": "markdown",
   "metadata": {},
   "source": [
    "In this part, we will measure the runtime of each LDP algorithm for given epsilons. "
   ]
  },
  {
   "cell_type": "code",
   "execution_count": null,
   "metadata": {},
   "outputs": [],
   "source": [
    "census_times = epsilon_sweep_time(epsilons, census_data, census_Y, seed)\n",
    "nursery_times = epsilon_sweep_time(epsilons, nursery_data, nursery_Y, seed)\n",
    "cmc_times = epsilon_sweep_time(epsilons, cmc_data, cmc_Y, seed)\n",
    "mushroom_times = epsilon_sweep_time(epsilons, mushroom_data, mushroom_Y, seed)\n",
    "obesity_times = epsilon_sweep_time(epsilons, obesity_data, obesity_Y, seed)\n",
    "splice_times = epsilon_sweep_time(epsilons, splice_data, splice_Y, seed)"
   ]
  },
  {
   "cell_type": "code",
   "execution_count": null,
   "metadata": {},
   "outputs": [],
   "source": [
    "census_time_means = np.mean(list(census_times.values()), axis=1)\n",
    "census_time_std = np.std(list(census_times.values()), axis=1)\n",
    "\n",
    "nursery_time_means = np.mean(list(nursery_times.values()), axis=1)\n",
    "nursery_time_std = np.std(list(nursery_times.values()), axis=1)\n",
    "\n",
    "cmc_time_means = np.mean(list(cmc_times.values()), axis=1)\n",
    "cmc_time_std = np.std(list(cmc_times.values()), axis=1)\n",
    "\n",
    "mushroom_time_means = np.mean(list(mushroom_times.values()), axis=1)\n",
    "mushroom_time_std = np.std(list(mushroom_times.values()), axis=1)\n",
    "\n",
    "obesity_time_means = np.mean(list(obesity_times.values()), axis=1)\n",
    "obesity_time_std = np.std(list(obesity_times.values()), axis=1)\n",
    "\n",
    "splice_time_means = np.mean(list(splice_times.values()), axis=1)\n",
    "splice_time_std = np.std(list(splice_times.values()), axis=1)"
   ]
  },
  {
   "cell_type": "code",
   "execution_count": 24,
   "metadata": {},
   "outputs": [
    {
     "data": {
      "text/plain": [
       "array([ 0.36117169,  0.06001478,  0.05324954,  0.1824318 ,  0.71201507,\n",
       "       14.94801237])"
      ]
     },
     "execution_count": 24,
     "metadata": {},
     "output_type": "execute_result"
    }
   ],
   "source": [
    "print(\"Census Dataset:\")\n",
    "print([\"{:.3f}±{:.3f}\".format(mean,std) for mean, std in zip(census_time_means, census_time_std)])\n",
    "\n",
    "print(\"Nursery Dataset:\")\n",
    "print([\"{:.3f}±{:.3f}\".format(mean,std) for mean, std in zip(nursery_time_means, nursery_time_std)])\n",
    "\n",
    "print(\"Contraceptive Dataset:\")\n",
    "print([\"{:.3f}±{:.3f}\".format(mean,std) for mean, std in zip(cmc_time_means, cmc_time_std)])\n",
    "\n",
    "print(\"Mushroom Dataset:\")\n",
    "print([\"{:.3f}±{:.3f}\".format(mean,std) for mean, std in zip(mushroom_time_means, mushroom_time_std)])\n",
    "\n",
    "print(\"Obesity Dataset:\")\n",
    "print([\"{:.3f}±{:.3f}\".format(mean,std) for mean, std in zip(obesity_time_means, obesity_time_std)])\n",
    "\n",
    "print(\"Biology Dataset:\")\n",
    "print([\"{:.3f}±{:.3f}\".format(mean,std) for mean, std in zip(splice_time_means, splice_time_std)])"
   ]
  },
  {
   "cell_type": "markdown",
   "metadata": {},
   "source": [
    "## Information Gain"
   ]
  },
  {
   "cell_type": "code",
   "execution_count": null,
   "metadata": {},
   "outputs": [],
   "source": [
    "census_estimates = sweep(epsilons, census_data, census_Y, seed)\n",
    "nursery_estimates = sweep(epsilons, nursery_data, nursery_Y, seed)\n",
    "cmc_estimates = sweep(epsilons, cmc_data, cmc_Y, seed)\n",
    "mushroom_estimates = sweep(epsilons, mushroom_data, mushroom_Y, seed)\n",
    "obesity_estimates = sweep(epsilons, obesity_data, obesity_Y, seed)\n",
    "splice_estimates = sweep(epsilons, splice_data, splice_Y, seed)"
   ]
  },
  {
   "cell_type": "code",
   "execution_count": null,
   "metadata": {},
   "outputs": [],
   "source": [
    "census_IG, census_RMSE, census_kendall = calc_IG_metrics(epsilons, census_counts, census_estimates)\n",
    "nursery_IG, nursery_RMSE, nursery_kendall = calc_IG_metrics(epsilons, nursery_counts, nursery_estimates)\n",
    "cmc_IG, cmc_RMSE, cmc_kendall = calc_IG_metrics(epsilons, cmc_counts, cmc_estimates)\n",
    "mushroom_IG, mushroom_RMSE, mushroom_kendall = calc_IG_metrics(epsilons, mushroom_counts, mushroom_estimates)\n",
    "obesity_IG, obesity_RMSE, obesity_kendall = calc_IG_metrics(epsilons, obesity_counts, obesity_estimates)\n",
    "splice_IG, splice_RMSE, splice_kendall = calc_IG_metrics(epsilons, splice_counts, splice_estimates)"
   ]
  },
  {
   "cell_type": "markdown",
   "metadata": {},
   "source": [
    "### RMSE Plots"
   ]
  },
  {
   "cell_type": "code",
   "execution_count": null,
   "metadata": {},
   "outputs": [],
   "source": [
    "mpl.rcParams.update(mpl.rcParamsDefault)\n",
    "fig  = plt.figure(figsize=(10,8))\n",
    "\n",
    "plt.plot(epsilons, smooth(census_RMSE['OLH'], 5), label=\"OLH\", fillstyle='none', marker='D', color='b', markersize=16, linewidth=2.2)\n",
    "plt.plot(epsilons, smooth(census_RMSE['OUE'], 5), label=\"OUE\", fillstyle='none', marker='s', color='r', markersize=16, linewidth=2.2)\n",
    "plt.plot(epsilons, smooth(census_RMSE['THE'], 5), label=\"THE\", fillstyle='none', marker='v', color='m', markersize=16, linewidth=2.2)\n",
    "plt.plot(epsilons, smooth(census_RMSE['HR'], 5), label=\"HR\", fillstyle='none', marker='^', color='k', markersize=16, linewidth=2.2)\n",
    "plt.plot(epsilons, smooth(census_RMSE['CMS'], 5), label=\"CMS\", fillstyle='none', marker='x', color='saddlebrown', markersize=16, linewidth=2.2)\n",
    "plt.plot(epsilons, smooth(census_RMSE['RAPPOR'], 5), label=\"RAPPOR\", fillstyle='none', marker='o', color='g', markersize=16, linewidth=2.2)\n",
    "\n",
    "plt.xlabel(r'$\\epsilon$', fontsize=28)\n",
    "plt.ylabel(\"RMSE\", fontsize=24)\n",
    "plt.xticks(epsilon_ticks, fontsize=24)\n",
    "plt.xticks(rotation=90) \n",
    "plt.yticks(fontsize=24)\n",
    "plt.ylim(top=0.35)\n",
    "plt.legend(ncol=2, prop={'size': 22})\n",
    "\n",
    "plt.savefig(\"./results/figures/census_RMSE.pdf\", bbox_inches='tight')"
   ]
  },
  {
   "cell_type": "code",
   "execution_count": null,
   "metadata": {},
   "outputs": [],
   "source": [
    "fig  = plt.figure(figsize=(10,8))\n",
    "\n",
    "plt.plot(epsilons, smooth(nursery_RMSE['OLH'], 5), label=\"OLH\", fillstyle='none', marker='D', color='b', markersize=16, linewidth=2.2)\n",
    "plt.plot(epsilons, smooth(nursery_RMSE['OUE'], 5), label=\"OUE\", fillstyle='none', marker='s', color='r', markersize=16, linewidth=2.2)\n",
    "plt.plot(epsilons, smooth(nursery_RMSE['THE'], 5), label=\"THE\", fillstyle='none', marker='v', color='m', markersize=16, linewidth=2.2)\n",
    "plt.plot(epsilons, smooth(nursery_RMSE['HR'], 5), label=\"HR\", fillstyle='none', marker='^', color='k', markersize=16, linewidth=2.2)\n",
    "plt.plot(epsilons, smooth(nursery_RMSE['CMS'], 5), label=\"CMS\", fillstyle='none', marker='x', color='saddlebrown', markersize=16, linewidth=2.2)\n",
    "plt.plot(epsilons, smooth(nursery_RMSE['RAPPOR'], 5), label=\"RAPPOR\", fillstyle='none', marker='o', color='g', markersize=16, linewidth=2.2)\n",
    "\n",
    "plt.xlabel(r'$\\epsilon$', fontsize=28)\n",
    "plt.ylabel(\"RMSE\", fontsize=24)\n",
    "plt.xticks(epsilon_ticks, fontsize=24)\n",
    "plt.xticks(rotation=90) \n",
    "plt.yticks(fontsize=24)\n",
    "plt.ylim(top=0.35)\n",
    "plt.legend(ncol=2, prop={'size': 22})\n",
    "\n",
    "plt.savefig(\"./results/figures/nursery_RMSE.pdf\", bbox_inches='tight')"
   ]
  },
  {
   "cell_type": "code",
   "execution_count": null,
   "metadata": {},
   "outputs": [],
   "source": [
    "fig  = plt.figure(figsize=(10,8))\n",
    "\n",
    "plt.plot(epsilons, smooth(cmc_RMSE['OLH'], 5), label=\"OLH\", fillstyle='none', marker='D', color='b', markersize=16, linewidth=2.2)\n",
    "plt.plot(epsilons, smooth(cmc_RMSE['OUE'], 5), label=\"OUE\", fillstyle='none', marker='s', color='r', markersize=16, linewidth=2.2)\n",
    "plt.plot(epsilons, smooth(cmc_RMSE['THE'], 5), label=\"THE\", fillstyle='none', marker='v', color='m', markersize=16, linewidth=2.2)\n",
    "plt.plot(epsilons, smooth(cmc_RMSE['HR'], 5), label=\"HR\", fillstyle='none', marker='^', color='k', markersize=16, linewidth=2.2)\n",
    "plt.plot(epsilons, smooth(cmc_RMSE['CMS'], 5), label=\"CMS\", fillstyle='none', marker='x', color='saddlebrown', markersize=16, linewidth=2.2)\n",
    "plt.plot(epsilons, smooth(cmc_RMSE['RAPPOR'], 5), label=\"RAPPOR\", fillstyle='none', marker='o', color='g', markersize=16, linewidth=2.2)\n",
    "\n",
    "plt.xlabel(r'$\\epsilon$', fontsize=28)\n",
    "plt.ylabel(\"RMSE\", fontsize=24)\n",
    "plt.xticks(epsilon_ticks, fontsize=24)\n",
    "plt.xticks(rotation=90) \n",
    "plt.yticks(fontsize=24)\n",
    "plt.ylim(top=0.35)\n",
    "plt.legend(ncol=2, prop={'size': 22})\n",
    "\n",
    "plt.savefig(\"./results/figures/cmc_RMSE.pdf\", bbox_inches='tight')"
   ]
  },
  {
   "cell_type": "code",
   "execution_count": null,
   "metadata": {},
   "outputs": [],
   "source": [
    "fig  = plt.figure(figsize=(10,8))\n",
    "\n",
    "plt.plot(epsilons, smooth(mushroom_RMSE['OLH'], 5), label=\"OLH\", fillstyle='none', marker='D', color='b', markersize=16, linewidth=2.2)\n",
    "plt.plot(epsilons, smooth(mushroom_RMSE['OUE'], 5), label=\"OUE\", fillstyle='none', marker='s', color='r', markersize=16, linewidth=2.2)\n",
    "plt.plot(epsilons, smooth(mushroom_RMSE['THE'], 5), label=\"THE\", fillstyle='none', marker='v', color='m', markersize=16, linewidth=2.2)\n",
    "plt.plot(epsilons, smooth(mushroom_RMSE['HR'], 5), label=\"HR\", fillstyle='none', marker='^', color='k', markersize=16, linewidth=2.2)\n",
    "plt.plot(epsilons, smooth(mushroom_RMSE['CMS'], 5), label=\"CMS\", fillstyle='none', marker='x', color='saddlebrown', markersize=16, linewidth=2.2)\n",
    "plt.plot(epsilons, smooth(mushroom_RMSE['RAPPOR'], 5), label=\"RAPPOR\", fillstyle='none', marker='o', color='g', markersize=16, linewidth=2.2)\n",
    "\n",
    "plt.xlabel(r'$\\epsilon$', fontsize=28)\n",
    "plt.ylabel(\"RMSE\", fontsize=24)\n",
    "plt.xticks(epsilon_ticks, fontsize=24)\n",
    "plt.xticks(rotation=90) \n",
    "plt.yticks(fontsize=24)\n",
    "plt.ylim(top=0.35)\n",
    "plt.legend(ncol=2, prop={'size': 22})\n",
    "\n",
    "plt.savefig(\"./results/figures/mushroom_RMSE.pdf\", bbox_inches='tight')"
   ]
  },
  {
   "cell_type": "code",
   "execution_count": null,
   "metadata": {},
   "outputs": [],
   "source": [
    "fig  = plt.figure(figsize=(10,8))\n",
    "\n",
    "plt.plot(epsilons, smooth(obesity_RMSE['OLH'], 5), label=\"OLH\", fillstyle='none', marker='D', color='b', markersize=16, linewidth=2.2)\n",
    "plt.plot(epsilons, smooth(obesity_RMSE['OUE'], 5), label=\"OUE\", fillstyle='none', marker='s', color='r', markersize=16, linewidth=2.2)\n",
    "plt.plot(epsilons, smooth(obesity_RMSE['THE'], 5), label=\"THE\", fillstyle='none', marker='v', color='m', markersize=16, linewidth=2.2)\n",
    "plt.plot(epsilons, smooth(obesity_RMSE['HR'], 5), label=\"HR\", fillstyle='none', marker='^', color='k', markersize=16, linewidth=2.2)\n",
    "plt.plot(epsilons, smooth(obesity_RMSE['CMS'], 5), label=\"CMS\", fillstyle='none', marker='x', color='saddlebrown', markersize=16, linewidth=2.2)\n",
    "plt.plot(epsilons, smooth(obesity_RMSE['RAPPOR'], 5), label=\"RAPPOR\", fillstyle='none', marker='o', color='g', markersize=16, linewidth=2.2)\n",
    "\n",
    "plt.xlabel(r'$\\epsilon$', fontsize=28)\n",
    "plt.ylabel(\"RMSE\", fontsize=24)\n",
    "plt.xticks(epsilon_ticks, fontsize=24)\n",
    "plt.xticks(rotation=90) \n",
    "plt.yticks(fontsize=24)\n",
    "plt.ylim(top=0.35)\n",
    "plt.legend(ncol=2, prop={'size': 22})\n",
    "\n",
    "plt.savefig(\"./results/figures/obesity_RMSE.pdf\", bbox_inches='tight')"
   ]
  },
  {
   "cell_type": "code",
   "execution_count": null,
   "metadata": {},
   "outputs": [],
   "source": [
    "fig  = plt.figure(figsize=(10,8))\n",
    "\n",
    "plt.plot(epsilons, smooth(splice_RMSE['OLH'], 5), label=\"OLH\", fillstyle='none', marker='D', color='b', markersize=16, linewidth=2.2)\n",
    "plt.plot(epsilons, smooth(splice_RMSE['OUE'], 5), label=\"OUE\", fillstyle='none', marker='s', color='r', markersize=16, linewidth=2.2)\n",
    "plt.plot(epsilons, smooth(splice_RMSE['THE'], 5), label=\"THE\", fillstyle='none', marker='v', color='m', markersize=16, linewidth=2.2)\n",
    "plt.plot(epsilons, smooth(splice_RMSE['HR'], 5), label=\"HR\", fillstyle='none', marker='^', color='k', markersize=16, linewidth=2.2)\n",
    "plt.plot(epsilons, smooth(splice_RMSE['CMS'], 5), label=\"CMS\", fillstyle='none', marker='x', color='saddlebrown', markersize=16, linewidth=2.2)\n",
    "plt.plot(epsilons, smooth(splice_RMSE['RAPPOR'], 5), label=\"RAPPOR\", fillstyle='none', marker='o', color='g', markersize=16, linewidth=2.2)\n",
    "\n",
    "plt.xlabel(r'$\\epsilon$', fontsize=28)\n",
    "plt.ylabel(\"RMSE\", fontsize=24)\n",
    "plt.xticks(epsilon_ticks, fontsize=24)\n",
    "plt.xticks(rotation=90) \n",
    "plt.yticks(fontsize=24)\n",
    "plt.ylim(top=0.35)\n",
    "plt.legend(ncol=2, prop={'size': 22})\n",
    "\n",
    "plt.savefig(\"./results/figures/splice_RMSE.pdf\", bbox_inches='tight')"
   ]
  },
  {
   "cell_type": "markdown",
   "metadata": {},
   "source": [
    "### Kendall Plots"
   ]
  },
  {
   "cell_type": "code",
   "execution_count": null,
   "metadata": {},
   "outputs": [],
   "source": [
    "fig  = plt.figure(figsize=(10,8))\n",
    "\n",
    "plt.plot(epsilons, smooth(census_kendall['OLH'], 5), label=\"OLH\", fillstyle='none', marker='D', color='b', markersize=16, linewidth=2.2)\n",
    "plt.plot(epsilons, smooth(census_kendall['OUE'], 5), label=\"OUE\", fillstyle='none', marker='s', color='r', markersize=16, linewidth=2.2)\n",
    "plt.plot(epsilons, smooth(census_kendall['THE'], 5), label=\"THE\", fillstyle='none', marker='v', color='m', markersize=16, linewidth=2.2)\n",
    "plt.plot(epsilons, smooth(census_kendall['HR'], 5), label=\"HR\", fillstyle='none', marker='^', color='k', markersize=16, linewidth=2.2)\n",
    "plt.plot(epsilons, smooth(census_kendall['CMS'], 5), label=\"CMS\", fillstyle='none', marker='x', color='saddlebrown', markersize=16, linewidth=2.2)\n",
    "plt.plot(epsilons, smooth(census_kendall['RAPPOR'], 5), label=\"RAPPOR\", fillstyle='none', marker='o', color='g', markersize=16, linewidth=2.2)\n",
    "\n",
    "plt.xlabel(r'$\\epsilon$', fontsize=28)\n",
    "plt.ylabel(\"Kendall's Tau Distance\", fontsize=24)\n",
    "plt.xticks(epsilon_ticks, fontsize=24)\n",
    "plt.xticks(rotation=90) \n",
    "plt.yticks(fontsize=24)\n",
    "plt.ylim(top=0.6)\n",
    "plt.legend(ncol=2, prop={'size': 22})\n",
    "\n",
    "plt.savefig(\"./results/figures/census_kendall.pdf\", bbox_inches='tight')"
   ]
  },
  {
   "cell_type": "code",
   "execution_count": null,
   "metadata": {},
   "outputs": [],
   "source": [
    "fig  = plt.figure(figsize=(10,8))\n",
    "\n",
    "plt.plot(epsilons, smooth(nursery_kendall['OLH'], 5), label=\"OLH\", fillstyle='none', marker='D', color='b', markersize=16, linewidth=2.2)\n",
    "plt.plot(epsilons, smooth(nursery_kendall['OUE'], 5), label=\"OUE\", fillstyle='none', marker='s', color='r', markersize=16, linewidth=2.2)\n",
    "plt.plot(epsilons, smooth(nursery_kendall['THE'], 5), label=\"THE\", fillstyle='none', marker='v', color='m', markersize=16, linewidth=2.2)\n",
    "plt.plot(epsilons, smooth(nursery_kendall['HR'], 5), label=\"HR\", fillstyle='none', marker='^', color='k', markersize=16, linewidth=2.2)\n",
    "plt.plot(epsilons, smooth(nursery_kendall['CMS'], 5), label=\"CMS\", fillstyle='none', marker='x', color='saddlebrown', markersize=16, linewidth=2.2)\n",
    "plt.plot(epsilons, smooth(nursery_kendall['RAPPOR'], 5), label=\"RAPPOR\", fillstyle='none', marker='o', color='g', markersize=16, linewidth=2.2)\n",
    "\n",
    "plt.xlabel(r'$\\epsilon$', fontsize=28)\n",
    "plt.ylabel(\"Kendall's Tau Distance\", fontsize=24)\n",
    "plt.xticks(epsilon_ticks, fontsize=24)\n",
    "plt.xticks(rotation=90) \n",
    "plt.yticks(fontsize=24)\n",
    "plt.ylim(top=0.6)\n",
    "plt.legend(ncol=2, prop={'size': 22})\n",
    "\n",
    "plt.savefig(\"./results/figures/nursery_kendall.pdf\", bbox_inches='tight')"
   ]
  },
  {
   "cell_type": "code",
   "execution_count": null,
   "metadata": {},
   "outputs": [],
   "source": [
    "fig  = plt.figure(figsize=(10,8))\n",
    "\n",
    "plt.plot(epsilons, smooth(cmc_kendall['OLH'], 5), label=\"OLH\", fillstyle='none', marker='D', color='b', markersize=16, linewidth=2.2)\n",
    "plt.plot(epsilons, smooth(cmc_kendall['OUE'], 5), label=\"OUE\", fillstyle='none', marker='s', color='r', markersize=16, linewidth=2.2)\n",
    "plt.plot(epsilons, smooth(cmc_kendall['THE'], 5), label=\"THE\", fillstyle='none', marker='v', color='m', markersize=16, linewidth=2.2)\n",
    "plt.plot(epsilons, smooth(cmc_kendall['HR'], 5), label=\"HR\", fillstyle='none', marker='^', color='k', markersize=16, linewidth=2.2)\n",
    "plt.plot(epsilons, smooth(cmc_kendall['CMS'], 5), label=\"CMS\", fillstyle='none', marker='x', color='saddlebrown', markersize=16, linewidth=2.2)\n",
    "plt.plot(epsilons, smooth(cmc_kendall['RAPPOR'], 5), label=\"RAPPOR\", fillstyle='none', marker='o', color='g', markersize=16, linewidth=2.2)\n",
    "\n",
    "plt.xlabel(r'$\\epsilon$', fontsize=28)\n",
    "plt.ylabel(\"Kendall's Tau Distance\", fontsize=24)\n",
    "plt.xticks(epsilon_ticks, fontsize=24)\n",
    "plt.xticks(rotation=90) \n",
    "plt.yticks(fontsize=24)\n",
    "plt.ylim(top=0.6)\n",
    "plt.legend(ncol=2, prop={'size': 22})\n",
    "\n",
    "plt.savefig(\"./results/figures/cmc_kendall.pdf\", bbox_inches='tight')"
   ]
  },
  {
   "cell_type": "code",
   "execution_count": null,
   "metadata": {},
   "outputs": [],
   "source": [
    "fig  = plt.figure(figsize=(10,8))\n",
    "\n",
    "plt.plot(epsilons, smooth(mushroom_kendall['OLH'], 5), label=\"OLH\", fillstyle='none', marker='D', color='b', markersize=16, linewidth=2.2)\n",
    "plt.plot(epsilons, smooth(mushroom_kendall['OUE'], 5), label=\"OUE\", fillstyle='none', marker='s', color='r', markersize=16, linewidth=2.2)\n",
    "plt.plot(epsilons, smooth(mushroom_kendall['THE'], 5), label=\"THE\", fillstyle='none', marker='v', color='m', markersize=16, linewidth=2.2)\n",
    "plt.plot(epsilons, smooth(mushroom_kendall['HR'], 5), label=\"HR\", fillstyle='none', marker='^', color='k', markersize=16, linewidth=2.2)\n",
    "plt.plot(epsilons, smooth(mushroom_kendall['CMS'], 5), label=\"CMS\", fillstyle='none', marker='x', color='saddlebrown', markersize=16, linewidth=2.2)\n",
    "plt.plot(epsilons, smooth(mushroom_kendall['RAPPOR'], 5), label=\"RAPPOR\", fillstyle='none', marker='o', color='g', markersize=16, linewidth=2.2)\n",
    "\n",
    "plt.xlabel(r'$\\epsilon$', fontsize=28)\n",
    "plt.ylabel(\"Kendall's Tau Distance\", fontsize=24)\n",
    "plt.xticks(epsilon_ticks, fontsize=24)\n",
    "plt.xticks(rotation=90) \n",
    "plt.yticks(fontsize=24)\n",
    "plt.ylim(top=0.6)\n",
    "plt.legend(ncol=2, prop={'size': 22})\n",
    "\n",
    "plt.savefig(\"./results/figures/mushroom_kendall.pdf\", bbox_inches='tight')"
   ]
  },
  {
   "cell_type": "code",
   "execution_count": null,
   "metadata": {},
   "outputs": [],
   "source": [
    "fig  = plt.figure(figsize=(10,8))\n",
    "\n",
    "plt.plot(epsilons, smooth(obesity_kendall['OLH'], 5), label=\"OLH\", fillstyle='none', marker='D', color='b', markersize=16, linewidth=2.2)\n",
    "plt.plot(epsilons, smooth(obesity_kendall['OUE'], 5), label=\"OUE\", fillstyle='none', marker='s', color='r', markersize=16, linewidth=2.2)\n",
    "plt.plot(epsilons, smooth(obesity_kendall['THE'], 5), label=\"THE\", fillstyle='none', marker='v', color='m', markersize=16, linewidth=2.2)\n",
    "plt.plot(epsilons, smooth(obesity_kendall['HR'], 5), label=\"HR\", fillstyle='none', marker='^', color='k', markersize=16, linewidth=2.2)\n",
    "plt.plot(epsilons, smooth(obesity_kendall['CMS'], 5), label=\"CMS\", fillstyle='none', marker='x', color='saddlebrown', markersize=16, linewidth=2.2)\n",
    "plt.plot(epsilons, smooth(obesity_kendall['RAPPOR'], 5), label=\"RAPPOR\", fillstyle='none', marker='o', color='g', markersize=16, linewidth=2.2)\n",
    "\n",
    "plt.xlabel(r'$\\epsilon$', fontsize=28)\n",
    "plt.ylabel(\"Kendall's Tau Distance\", fontsize=24)\n",
    "plt.xticks(epsilon_ticks, fontsize=24)\n",
    "plt.xticks(rotation=90) \n",
    "plt.yticks(fontsize=24)\n",
    "plt.ylim(top=0.6)\n",
    "plt.legend(ncol=2, prop={'size': 22})\n",
    "\n",
    "plt.savefig(\"./results/figures/obesity_kendall.pdf\", bbox_inches='tight')"
   ]
  },
  {
   "cell_type": "code",
   "execution_count": null,
   "metadata": {},
   "outputs": [],
   "source": [
    "fig  = plt.figure(figsize=(10,8))\n",
    "\n",
    "plt.plot(epsilons, smooth(splice_kendall['OLH'], 5), label=\"OLH\", fillstyle='none', marker='D', color='b', markersize=16, linewidth=2.2)\n",
    "plt.plot(epsilons, smooth(splice_kendall['OUE'], 5), label=\"OUE\", fillstyle='none', marker='s', color='r', markersize=16, linewidth=2.2)\n",
    "plt.plot(epsilons, smooth(splice_kendall['THE'], 5), label=\"THE\", fillstyle='none', marker='v', color='m', markersize=16, linewidth=2.2)\n",
    "plt.plot(epsilons, smooth(splice_kendall['HR'], 5), label=\"HR\", fillstyle='none', marker='^', color='k', markersize=16, linewidth=2.2)\n",
    "plt.plot(epsilons, smooth(splice_kendall['CMS'], 5), label=\"CMS\", fillstyle='none', marker='x', color='saddlebrown', markersize=16, linewidth=2.2)\n",
    "plt.plot(epsilons, smooth(splice_kendall['RAPPOR'], 5), label=\"RAPPOR\", fillstyle='none', marker='o', color='g', markersize=16, linewidth=2.2)\n",
    "\n",
    "plt.xlabel(r'$\\epsilon$', fontsize=28)\n",
    "plt.ylabel(\"Kendall's Tau Distance\", fontsize=24)\n",
    "plt.xticks(epsilon_ticks, fontsize=24)\n",
    "plt.xticks(rotation=90) \n",
    "plt.yticks(fontsize=24)\n",
    "plt.ylim(top=0.6)\n",
    "plt.legend(ncol=2, prop={'size': 22})\n",
    "\n",
    "plt.savefig(\"./results/figures/splice_kendall.pdf\", bbox_inches='tight')"
   ]
  },
  {
   "cell_type": "markdown",
   "metadata": {},
   "source": [
    "## Barplots"
   ]
  },
  {
   "cell_type": "code",
   "execution_count": null,
   "metadata": {},
   "outputs": [],
   "source": [
    "OLH_RMSE_arrays = [cmc_RMSE['OLH'], nursery_RMSE['OLH'], obesity_RMSE['OLH'],\n",
    "              mushroom_RMSE['OLH'], splice_RMSE['OLH'], census_RMSE['OLH']]\n",
    "OLH_RMSE_means = [np.mean(k) for k in zip(*OLH_RMSE_arrays)]\n",
    "\n",
    "OUE_RMSE_arrays = [cmc_RMSE['OUE'], nursery_RMSE['OUE'], obesity_RMSE['OUE'],\n",
    "              mushroom_RMSE['OUE'], splice_RMSE['OUE'], census_RMSE['OUE']]\n",
    "OUE_RMSE_means = [np.mean(k) for k in zip(*OUE_RMSE_arrays)]\n",
    "\n",
    "THE_RMSE_arrays = [cmc_RMSE['THE'], nursery_RMSE['THE'], obesity_RMSE['THE'],\n",
    "              mushroom_RMSE['THE'], splice_RMSE['THE'], census_RMSE['THE']]\n",
    "THE_RMSE_means = [np.mean(k) for k in zip(*THE_RMSE_arrays)]\n",
    "\n",
    "HR_RMSE_arrays = [cmc_RMSE['HR'], nursery_RMSE['HR'], obesity_RMSE['HR'],\n",
    "              mushroom_RMSE['HR'], splice_RMSE['HR'], census_RMSE['HR']]\n",
    "HR_RMSE_means = [np.mean(k) for k in zip(*HR_RMSE_arrays)]\n",
    "\n",
    "CMS_RMSE_arrays = [cmc_RMSE['CMS'], nursery_RMSE['CMS'], obesity_RMSE['CMS'],\n",
    "              mushroom_RMSE['CMS'], splice_RMSE['CMS'], census_RMSE['CMS']]\n",
    "CMS_RMSE_means = [np.mean(k) for k in zip(*CMS_RMSE_arrays)]\n",
    "\n",
    "RAPPOR_RMSE_arrays = [cmc_RMSE['RAPPOR'], nursery_RMSE['RAPPOR'], obesity_RMSE['RAPPOR'],\n",
    "              mushroom_RMSE['RAPPOR'], splice_RMSE['RAPPOR'], census_RMSE['RAPPOR']]\n",
    "RAPPOR_RMSE_means = [np.mean(k) for k in zip(*RAPPOR_RMSE_arrays)]"
   ]
  },
  {
   "cell_type": "code",
   "execution_count": null,
   "metadata": {},
   "outputs": [],
   "source": [
    "fig  = plt.figure(figsize=(25,12))\n",
    "index = np.arange(10)\n",
    "bar_width = 0.13\n",
    "opacity = 0.6\n",
    "\n",
    "rects1 = ax.bar(index, OLH_RMSE_means, bar_width, alpha=opacity, color='b', label='OLH', hatch = '//')\n",
    "rects2 = ax.bar(index+bar_width, OUE_RMSE_means, bar_width, alpha=opacity, color='skyblue', label='OUE', hatch = '\\\\\\\\')\n",
    "rects3 = ax.bar(index+2*bar_width, THE_RMSE_means, bar_width, alpha=opacity,  color='darkmagenta', label='THE', hatch = '||')\n",
    "rects4 = ax.bar(index+3*bar_width, HR_RMSE_means, bar_width, alpha=opacity, color='c', label='HR', hatch = '*')\n",
    "rects5 = ax.bar(index+4*bar_width, CMS_RMSE_means, bar_width, alpha=opacity, color='mediumpurple', label='CMS', hatch = 'O')\n",
    "rects6 = ax.bar(index+5*bar_width, RAPPOR_RMSE_means, bar_width, alpha=opacity, color='midnightblue', label='RAPPOR', hatch = '.')\n",
    "\n",
    "ax.set_xlabel(r\"$\\epsilon$\", size=30)\n",
    "ax.set_ylabel('RMSE', size=28)\n",
    "ax.set_xticks(index + 2.5*bar_width)\n",
    "ax.set_xticklabels(epsilons)\n",
    "plt.yticks(size=24)\n",
    "plt.xticks(size=24)\n",
    "ax.legend(ncol=3, prop={'size':35})\n",
    "\n",
    "plt.savefig(\"./results/RMSE_barplot.pdf\", bbox_inches='tight')"
   ]
  },
  {
   "cell_type": "code",
   "execution_count": null,
   "metadata": {},
   "outputs": [],
   "source": [
    "fig  = plt.figure(figsize=(25,12))\n",
    "index = np.arange(10)\n",
    "bar_width = 0.13\n",
    "opacity = 0.6\n",
    "\n",
    "rects1 = ax.bar(index, OLH_kendall_means, bar_width, alpha=opacity, color='b', label='OLH', hatch = '//')\n",
    "rects2 = ax.bar(index+bar_width, OUE_kendall_means, bar_width, alpha=opacity, color='skyblue', label='OUE', hatch = '\\\\\\\\')\n",
    "rects3 = ax.bar(index+2*bar_width, THE_kendall_means, bar_width, alpha=opacity,  color='darkmagenta', label='THE', hatch = '||')\n",
    "rects4 = ax.bar(index+3*bar_width, HR_kendall_means, bar_width, alpha=opacity, color='c', label='HR', hatch = '*')\n",
    "rects5 = ax.bar(index+4*bar_width, CMS_kendall_means, bar_width, alpha=opacity, color='mediumpurple', label='CMS', hatch = 'O')\n",
    "rects6 = ax.bar(index+5*bar_width, RAPPOR_kendall_means, bar_width, alpha=opacity, color='midnightblue', label='RAPPOR', hatch = '.')\n",
    "\n",
    "ax.set_xlabel(r\"$\\epsilon$\", size=30)\n",
    "plt.ylabel(\"Kendall's Tau Distance\", size=28)\n",
    "ax.set_xticks(index + 2.5*bar_width)\n",
    "ax.set_xticklabels(epsilons)\n",
    "plt.yticks(size=24)\n",
    "plt.xticks(size=24)\n",
    "ax.legend(ncol=3, prop={'size':35})\n",
    "\n",
    "plt.savefig(\"./results/kendall_barplot.pdf\", bbox_inches='tight')"
   ]
  },
  {
   "cell_type": "markdown",
   "metadata": {},
   "source": [
    "### Boxplot"
   ]
  },
  {
   "cell_type": "markdown",
   "metadata": {},
   "source": [
    "In order to make the boxplot more readable, two of the outliers have been removed."
   ]
  },
  {
   "cell_type": "code",
   "execution_count": null,
   "metadata": {},
   "outputs": [],
   "source": [
    "IG_cmc = calc_information_gain(cmc_counts)\n",
    "IG_nursery = calc_information_gain(nursery_counts)\n",
    "IG_obesity = calc_information_gain(obesity_counts)\n",
    "IG_splice = calc_information_gain(splice_counts)\n",
    "IG_mushroom = calc_information_gain(mushroom_counts)\n",
    "IG_census = calc_information_gain(census_counts)\n",
    "\n",
    "IGs = [IG_census, IG_nursery, IG_cmc, np.delete(IG_mushroom, 4), np.delete(IG_obesity, 3), IG_splice]"
   ]
  },
  {
   "cell_type": "code",
   "execution_count": null,
   "metadata": {},
   "outputs": [],
   "source": [
    "fig  = plt.figure(figsize=(18,12))\n",
    "\n",
    "plt.boxplot(IGs, labels=['Census', 'Nursery', 'Contraceptive', 'Mushroom', 'Obesity', 'Biology'], \n",
    "            boxprops={'linewidth':2}, whiskerprops={'linewidth':2}, capprops={'linewidth':2},\n",
    "            flierprops={'markersize':10, 'markeredgewidth':2}, medianprops={'linewidth':2, 'linestyle':'--', 'color': 'black'})\n",
    "\n",
    "plt.xlabel(\"Datasets\", fontsize=28)\n",
    "plt.ylabel(\"Information Gain\", fontsize=14)\n",
    "plt.xticks(size=24)\n",
    "plt.yticks(size=24)\n",
    "\n",
    "plt.savefig(\"./results/boxplot.pdf\", bbox_inches='tight')"
   ]
  },
  {
   "cell_type": "markdown",
   "metadata": {},
   "source": [
    "## Chi-squared"
   ]
  },
  {
   "cell_type": "code",
   "execution_count": null,
   "metadata": {},
   "outputs": [],
   "source": [
    "_, _, census_chi2_rmse, census_chi2_kendall = calc_chi2_metrics(epsilons, census_counts, census_estimates)\n",
    "_, _, nursery_chi2_rmse, nursery_chi2_kendall = calc_chi2_metrics(epsilons, nursery_counts, nursery_estimates)\n",
    "_, _, cmc_chi2_rmse, cmc_chi2_kendall = calc_chi2_metrics(epsilons, cmc_counts, cmc_estimates)\n",
    "_, _, mushroom_chi2_rmse, mushroom_chi2_kendall = calc_chi2_metrics(epsilons, mushroom_counts, mushroom_estimates)\n",
    "_, _, obesity_chi2_rmse, obesity_chi2_kendall = calc_chi2_metrics(epsilons, obesity_counts, obesity_estimates)\n",
    "_, _, splice_chi2_rmse, splice_chi2_kendall = calc_chi2_metrics(epsilons, splice_counts, splice_estimates)\n"
   ]
  },
  {
   "cell_type": "code",
   "execution_count": null,
   "metadata": {},
   "outputs": [],
   "source": [
    "census_chi2_rmse_std = standardize(census_chi2_rmse)\n",
    "nursery_chi2_rmse_std = standardize(nursery_chi2_rmse)\n",
    "cmc_chi2_rmse_std = standardize(cmc_chi2_rmse)\n",
    "mushroom_chi2_rmse_std = standardize(mushroom_chi2_rmse)\n",
    "obesity_chi2_rmse_std = standardize(obesity_chi2_rmse)\n",
    "splice_chi2_rmse_std = standardize(splice_chi2_rmse)"
   ]
  },
  {
   "cell_type": "markdown",
   "metadata": {},
   "source": [
    "### (Standardized) RMSE Plots"
   ]
  },
  {
   "cell_type": "code",
   "execution_count": null,
   "metadata": {},
   "outputs": [],
   "source": [
    "fig  = plt.figure(figsize=(10,8))\n",
    "\n",
    "plt.plot(epsilons, smooth(census_chi2_rmse_std['OLH'], 5), label=\"OLH\", fillstyle='none', marker='D', color='b', markersize=16, linewidth=2.2)\n",
    "plt.plot(epsilons, smooth(census_chi2_rmse_std['OUE'], 5), label=\"OUE\", fillstyle='none', marker='s', color='r', markersize=16, linewidth=2.2)\n",
    "plt.plot(epsilons, smooth(census_chi2_rmse_std['THE'], 5), label=\"THE\", fillstyle='none', marker='v', color='m', markersize=16, linewidth=2.2)\n",
    "plt.plot(epsilons, smooth(census_chi2_rmse_std['HR'], 5), label=\"HR\", fillstyle='none', marker='^', color='k', markersize=16, linewidth=2.2)\n",
    "plt.plot(epsilons, smooth(census_chi2_rmse_std['CMS'], 5), label=\"CMS\", fillstyle='none', marker='x', color='saddlebrown', markersize=16, linewidth=2.2)\n",
    "plt.plot(epsilons, smooth(census_chi2_rmse_std['RAPPOR'], 5), label=\"RAPPOR\", fillstyle='none', marker='o', color='g', markersize=16, linewidth=2.2)\n",
    "\n",
    "plt.xlabel(r'$\\epsilon$', fontsize=28)\n",
    "plt.ylabel(\"Standardized RMSE\", fontsize=24)\n",
    "plt.xticks(epsilon_ticks, fontsize=24)\n",
    "plt.xticks(rotation=90) \n",
    "plt.yticks(fontsize=24)\n",
    "plt.legend(ncol=2, prop={'size': 22})\n",
    "\n",
    "plt.savefig(\"./results/figures/census_chi2_rmse.pdf\", bbox_inches='tight')"
   ]
  },
  {
   "cell_type": "code",
   "execution_count": null,
   "metadata": {},
   "outputs": [],
   "source": [
    "fig  = plt.figure(figsize=(10,8))\n",
    "\n",
    "plt.plot(epsilons, smooth(nursery_chi2_rmse_std['OLH'], 5), label=\"OLH\", fillstyle='none', marker='D', color='b', markersize=16, linewidth=2.2)\n",
    "plt.plot(epsilons, smooth(nursery_chi2_rmse_std['OUE'], 5), label=\"OUE\", fillstyle='none', marker='s', color='r', markersize=16, linewidth=2.2)\n",
    "plt.plot(epsilons, smooth(nursery_chi2_rmse_std['THE'], 5), label=\"THE\", fillstyle='none', marker='v', color='m', markersize=16, linewidth=2.2)\n",
    "plt.plot(epsilons, smooth(nursery_chi2_rmse_std['HR'], 5), label=\"HR\", fillstyle='none', marker='^', color='k', markersize=16, linewidth=2.2)\n",
    "plt.plot(epsilons, smooth(nursery_chi2_rmse_std['CMS'], 5), label=\"CMS\", fillstyle='none', marker='x', color='saddlebrown', markersize=16, linewidth=2.2)\n",
    "plt.plot(epsilons, smooth(nursery_chi2_rmse_std['RAPPOR'], 5), label=\"RAPPOR\", fillstyle='none', marker='o', color='g', markersize=16, linewidth=2.2)\n",
    "\n",
    "plt.xlabel(r'$\\epsilon$', fontsize=28)\n",
    "plt.ylabel(\"Standardized RMSE\", fontsize=24)\n",
    "plt.xticks(epsilon_ticks, fontsize=24)\n",
    "plt.xticks(rotation=90) \n",
    "plt.yticks(fontsize=24)\n",
    "plt.legend(ncol=2, prop={'size': 22})\n",
    "\n",
    "plt.savefig(\"./results/figures/nursery_chi2_rmse.pdf\", bbox_inches='tight')"
   ]
  },
  {
   "cell_type": "code",
   "execution_count": null,
   "metadata": {},
   "outputs": [],
   "source": [
    "fig  = plt.figure(figsize=(10,8))\n",
    "\n",
    "plt.plot(epsilons, smooth(cmc_chi2_rmse_std['OLH'], 5), label=\"OLH\", fillstyle='none', marker='D', color='b', markersize=16, linewidth=2.2)\n",
    "plt.plot(epsilons, smooth(cmc_chi2_rmse_std['OUE'], 5), label=\"OUE\", fillstyle='none', marker='s', color='r', markersize=16, linewidth=2.2)\n",
    "plt.plot(epsilons, smooth(cmc_chi2_rmse_std['THE'], 5), label=\"THE\", fillstyle='none', marker='v', color='m', markersize=16, linewidth=2.2)\n",
    "plt.plot(epsilons, smooth(cmc_chi2_rmse_std['HR'], 5), label=\"HR\", fillstyle='none', marker='^', color='k', markersize=16, linewidth=2.2)\n",
    "plt.plot(epsilons, smooth(cmc_chi2_rmse_std['CMS'], 5), label=\"CMS\", fillstyle='none', marker='x', color='saddlebrown', markersize=16, linewidth=2.2)\n",
    "plt.plot(epsilons, smooth(cmc_chi2_rmse_std['RAPPOR'], 5), label=\"RAPPOR\", fillstyle='none', marker='o', color='g', markersize=16, linewidth=2.2)\n",
    "\n",
    "plt.xlabel(r'$\\epsilon$', fontsize=28)\n",
    "plt.ylabel(\"Standardized RMSE\", fontsize=24)\n",
    "plt.xticks(epsilon_ticks, fontsize=24)\n",
    "plt.xticks(rotation=90) \n",
    "plt.yticks(fontsize=24)\n",
    "plt.legend(ncol=2, prop={'size': 22})\n",
    "\n",
    "plt.savefig(\"./results/figures/cmc_chi2_rmse.pdf\", bbox_inches='tight')"
   ]
  },
  {
   "cell_type": "code",
   "execution_count": null,
   "metadata": {},
   "outputs": [],
   "source": [
    "fig  = plt.figure(figsize=(10,8))\n",
    "\n",
    "plt.plot(epsilons, smooth(mushroom_chi2_rmse_std['OLH'], 5), label=\"OLH\", fillstyle='none', marker='D', color='b', markersize=16, linewidth=2.2)\n",
    "plt.plot(epsilons, smooth(mushroom_chi2_rmse_std['OUE'], 5), label=\"OUE\", fillstyle='none', marker='s', color='r', markersize=16, linewidth=2.2)\n",
    "plt.plot(epsilons, smooth(mushroom_chi2_rmse_std['THE'], 5), label=\"THE\", fillstyle='none', marker='v', color='m', markersize=16, linewidth=2.2)\n",
    "plt.plot(epsilons, smooth(mushroom_chi2_rmse_std['HR'], 5), label=\"HR\", fillstyle='none', marker='^', color='k', markersize=16, linewidth=2.2)\n",
    "plt.plot(epsilons, smooth(mushroom_chi2_rmse_std['CMS'], 5), label=\"CMS\", fillstyle='none', marker='x', color='saddlebrown', markersize=16, linewidth=2.2)\n",
    "plt.plot(epsilons, smooth(mushroom_chi2_rmse_std['RAPPOR'], 5), label=\"RAPPOR\", fillstyle='none', marker='o', color='g', markersize=16, linewidth=2.2)\n",
    "\n",
    "plt.xlabel(r'$\\epsilon$', fontsize=28)\n",
    "plt.ylabel(\"Standardized RMSE\", fontsize=24)\n",
    "plt.xticks(epsilon_ticks, fontsize=24)\n",
    "plt.xticks(rotation=90) \n",
    "plt.yticks(fontsize=24)\n",
    "plt.legend(ncol=2, prop={'size': 22})\n",
    "\n",
    "plt.savefig(\"./results/figures/mushroom_chi2_rmse.pdf\", bbox_inches='tight')"
   ]
  },
  {
   "cell_type": "code",
   "execution_count": null,
   "metadata": {},
   "outputs": [],
   "source": [
    "fig  = plt.figure(figsize=(10,8))\n",
    "\n",
    "plt.plot(epsilons, smooth(obesity_chi2_rmse_std['OLH'], 5), label=\"OLH\", fillstyle='none', marker='D', color='b', markersize=16, linewidth=2.2)\n",
    "plt.plot(epsilons, smooth(obesity_chi2_rmse_std['OUE'], 5), label=\"OUE\", fillstyle='none', marker='s', color='r', markersize=16, linewidth=2.2)\n",
    "plt.plot(epsilons, smooth(obesity_chi2_rmse_std['THE'], 5), label=\"THE\", fillstyle='none', marker='v', color='m', markersize=16, linewidth=2.2)\n",
    "plt.plot(epsilons, smooth(obesity_chi2_rmse_std['HR'], 5), label=\"HR\", fillstyle='none', marker='^', color='k', markersize=16, linewidth=2.2)\n",
    "plt.plot(epsilons, smooth(obesity_chi2_rmse_std['CMS'], 5), label=\"CMS\", fillstyle='none', marker='x', color='saddlebrown', markersize=16, linewidth=2.2)\n",
    "plt.plot(epsilons, smooth(obesity_chi2_rmse_std['RAPPOR'], 5), label=\"RAPPOR\", fillstyle='none', marker='o', color='g', markersize=16, linewidth=2.2)\n",
    "\n",
    "plt.xlabel(r'$\\epsilon$', fontsize=28)\n",
    "plt.ylabel(\"Standardized RMSE\", fontsize=24)\n",
    "plt.xticks(epsilon_ticks, fontsize=24)\n",
    "plt.xticks(rotation=90) \n",
    "plt.yticks(fontsize=24)\n",
    "plt.legend(ncol=2, prop={'size': 22})\n",
    "\n",
    "plt.savefig(\"./results/figures/obesity_chi2_rmse.pdf\", bbox_inches='tight')"
   ]
  },
  {
   "cell_type": "code",
   "execution_count": null,
   "metadata": {},
   "outputs": [],
   "source": [
    "fig  = plt.figure(figsize=(10,8))\n",
    "\n",
    "plt.plot(epsilons, smooth(splice_chi2_rmse_std['OLH'], 5), label=\"OLH\", fillstyle='none', marker='D', color='b', markersize=16, linewidth=2.2)\n",
    "plt.plot(epsilons, smooth(splice_chi2_rmse_std['OUE'], 5), label=\"OUE\", fillstyle='none', marker='s', color='r', markersize=16, linewidth=2.2)\n",
    "plt.plot(epsilons, smooth(splice_chi2_rmse_std['THE'], 5), label=\"THE\", fillstyle='none', marker='v', color='m', markersize=16, linewidth=2.2)\n",
    "plt.plot(epsilons, smooth(splice_chi2_rmse_std['HR'], 5), label=\"HR\", fillstyle='none', marker='^', color='k', markersize=16, linewidth=2.2)\n",
    "plt.plot(epsilons, smooth(splice_chi2_rmse_std['CMS'], 5), label=\"CMS\", fillstyle='none', marker='x', color='saddlebrown', markersize=16, linewidth=2.2)\n",
    "plt.plot(epsilons, smooth(splice_chi2_rmse_std['RAPPOR'], 5), label=\"RAPPOR\", fillstyle='none', marker='o', color='g', markersize=16, linewidth=2.2)\n",
    "\n",
    "plt.xlabel(r'$\\epsilon$', fontsize=28)\n",
    "plt.ylabel(\"Standardized RMSE\", fontsize=24)\n",
    "plt.xticks(epsilon_ticks, fontsize=24)\n",
    "plt.xticks(rotation=90) \n",
    "plt.yticks(fontsize=24)\n",
    "plt.legend(ncol=2, prop={'size': 22})\n",
    "\n",
    "plt.savefig(\"./results/figures/splice_chi2_rmse.pdf\", bbox_inches='tight')"
   ]
  },
  {
   "cell_type": "markdown",
   "metadata": {},
   "source": [
    "### Kendall Plots"
   ]
  },
  {
   "cell_type": "code",
   "execution_count": null,
   "metadata": {},
   "outputs": [],
   "source": [
    "fig  = plt.figure(figsize=(10,8))\n",
    "\n",
    "plt.plot(epsilons, smooth(census_chi2_kendall['OLH'], 5), label=\"OLH\", fillstyle='none', marker='D', color='b', markersize=16, linewidth=2.2)\n",
    "plt.plot(epsilons, smooth(census_chi2_kendall['OUE'], 5), label=\"OUE\", fillstyle='none', marker='s', color='r', markersize=16, linewidth=2.2)\n",
    "plt.plot(epsilons, smooth(census_chi2_kendall['THE'], 5), label=\"THE\", fillstyle='none', marker='v', color='m', markersize=16, linewidth=2.2)\n",
    "plt.plot(epsilons, smooth(census_chi2_kendall['HR'], 5), label=\"HR\", fillstyle='none', marker='^', color='k', markersize=16, linewidth=2.2)\n",
    "plt.plot(epsilons, smooth(census_chi2_kendall['CMS'], 5), label=\"CMS\", fillstyle='none', marker='x', color='saddlebrown', markersize=16, linewidth=2.2)\n",
    "plt.plot(epsilons, smooth(census_chi2_kendall['RAPPOR'], 5), label=\"RAPPOR\", fillstyle='none', marker='o', color='g', markersize=16, linewidth=2.2)\n",
    "plt.xlabel(r'$\\epsilon$', fontsize=28)\n",
    "plt.ylabel(\"Kendall's Tau Distance\", fontsize=24)\n",
    "plt.xticks(epsilon_ticks, fontsize=24)\n",
    "plt.xticks(rotation=90) \n",
    "plt.yticks(fontsize=24)\n",
    "plt.ylim(top=0.6)\n",
    "plt.legend(ncol=2, prop={'size': 22})\n",
    "\n",
    "plt.savefig(\"./results/figures/census_chi2_kendall.pdf\", bbox_inches='tight')"
   ]
  },
  {
   "cell_type": "code",
   "execution_count": null,
   "metadata": {},
   "outputs": [],
   "source": [
    "fig  = plt.figure(figsize=(10,8))\n",
    "\n",
    "plt.plot(epsilons, smooth(nursery_chi2_kendall['OLH'], 5), label=\"OLH\", fillstyle='none', marker='D', color='b', markersize=16, linewidth=2.2)\n",
    "plt.plot(epsilons, smooth(nursery_chi2_kendall['OUE'], 5), label=\"OUE\", fillstyle='none', marker='s', color='r', markersize=16, linewidth=2.2)\n",
    "plt.plot(epsilons, smooth(nursery_chi2_kendall['THE'], 5), label=\"THE\", fillstyle='none', marker='v', color='m', markersize=16, linewidth=2.2)\n",
    "plt.plot(epsilons, smooth(nursery_chi2_kendall['HR'], 5), label=\"HR\", fillstyle='none', marker='^', color='k', markersize=16, linewidth=2.2)\n",
    "plt.plot(epsilons, smooth(nursery_chi2_kendall['CMS'], 5), label=\"CMS\", fillstyle='none', marker='x', color='saddlebrown', markersize=16, linewidth=2.2)\n",
    "plt.plot(epsilons, smooth(nursery_chi2_kendall['RAPPOR'], 5), label=\"RAPPOR\", fillstyle='none', marker='o', color='g', markersize=16, linewidth=2.2)\n",
    "plt.xlabel(r'$\\epsilon$', fontsize=28)\n",
    "plt.ylabel(\"Kendall's Tau Distance\", fontsize=24)\n",
    "plt.xticks(epsilon_ticks, fontsize=24)\n",
    "plt.xticks(rotation=90) \n",
    "plt.yticks(fontsize=24)\n",
    "plt.ylim(top=0.6)\n",
    "plt.legend(ncol=2, prop={'size': 22})\n",
    "\n",
    "plt.savefig(\"./results/figures/nursery_chi2_kendall.pdf\", bbox_inches='tight')"
   ]
  },
  {
   "cell_type": "code",
   "execution_count": null,
   "metadata": {},
   "outputs": [],
   "source": [
    "fig  = plt.figure(figsize=(10,8))\n",
    "\n",
    "plt.plot(epsilons, smooth(cmc_chi2_kendall['OLH'], 5), label=\"OLH\", fillstyle='none', marker='D', color='b', markersize=16, linewidth=2.2)\n",
    "plt.plot(epsilons, smooth(cmc_chi2_kendall['OUE'], 5), label=\"OUE\", fillstyle='none', marker='s', color='r', markersize=16, linewidth=2.2)\n",
    "plt.plot(epsilons, smooth(cmc_chi2_kendall['THE'], 5), label=\"THE\", fillstyle='none', marker='v', color='m', markersize=16, linewidth=2.2)\n",
    "plt.plot(epsilons, smooth(cmc_chi2_kendall['HR'], 5), label=\"HR\", fillstyle='none', marker='^', color='k', markersize=16, linewidth=2.2)\n",
    "plt.plot(epsilons, smooth(cmc_chi2_kendall['CMS'], 5), label=\"CMS\", fillstyle='none', marker='x', color='saddlebrown', markersize=16, linewidth=2.2)\n",
    "plt.plot(epsilons, smooth(cmc_chi2_kendall['RAPPOR'], 5), label=\"RAPPOR\", fillstyle='none', marker='o', color='g', markersize=16, linewidth=2.2)\n",
    "plt.xlabel(r'$\\epsilon$', fontsize=28)\n",
    "plt.ylabel(\"Kendall's Tau Distance\", fontsize=24)\n",
    "plt.xticks(epsilon_ticks, fontsize=24)\n",
    "plt.xticks(rotation=90) \n",
    "plt.yticks(fontsize=24)\n",
    "plt.ylim(top=0.6)\n",
    "plt.legend(ncol=2, prop={'size': 22})\n",
    "\n",
    "plt.savefig(\"./results/figures/cmc_chi2_kendall.pdf\", bbox_inches='tight')"
   ]
  },
  {
   "cell_type": "code",
   "execution_count": null,
   "metadata": {},
   "outputs": [],
   "source": [
    "fig  = plt.figure(figsize=(10,8))\n",
    "\n",
    "plt.plot(epsilons, smooth(mushroom_chi2_kendall['OLH'], 5), label=\"OLH\", fillstyle='none', marker='D', color='b', markersize=16, linewidth=2.2)\n",
    "plt.plot(epsilons, smooth(mushroom_chi2_kendall['OUE'], 5), label=\"OUE\", fillstyle='none', marker='s', color='r', markersize=16, linewidth=2.2)\n",
    "plt.plot(epsilons, smooth(mushroom_chi2_kendall['THE'], 5), label=\"THE\", fillstyle='none', marker='v', color='m', markersize=16, linewidth=2.2)\n",
    "plt.plot(epsilons, smooth(mushroom_chi2_kendall['HR'], 5), label=\"HR\", fillstyle='none', marker='^', color='k', markersize=16, linewidth=2.2)\n",
    "plt.plot(epsilons, smooth(mushroom_chi2_kendall['CMS'], 5), label=\"CMS\", fillstyle='none', marker='x', color='saddlebrown', markersize=16, linewidth=2.2)\n",
    "plt.plot(epsilons, smooth(mushroom_chi2_kendall['RAPPOR'], 5), label=\"RAPPOR\", fillstyle='none', marker='o', color='g', markersize=16, linewidth=2.2)\n",
    "plt.xlabel(r'$\\epsilon$', fontsize=28)\n",
    "plt.ylabel(\"Kendall's Tau Distance\", fontsize=24)\n",
    "plt.xticks(epsilon_ticks, fontsize=24)\n",
    "plt.xticks(rotation=90) \n",
    "plt.yticks(fontsize=24)\n",
    "plt.ylim(top=0.6)\n",
    "plt.legend(ncol=2, prop={'size': 22})\n",
    "\n",
    "plt.savefig(\"./results/figures/mushroom_chi2_kendall.pdf\", bbox_inches='tight')"
   ]
  },
  {
   "cell_type": "code",
   "execution_count": null,
   "metadata": {},
   "outputs": [],
   "source": [
    "fig  = plt.figure(figsize=(10,8))\n",
    "\n",
    "plt.plot(epsilons, smooth(obesity_chi2_kendall['OLH'], 5), label=\"OLH\", fillstyle='none', marker='D', color='b', markersize=16, linewidth=2.2)\n",
    "plt.plot(epsilons, smooth(obesity_chi2_kendall['OUE'], 5), label=\"OUE\", fillstyle='none', marker='s', color='r', markersize=16, linewidth=2.2)\n",
    "plt.plot(epsilons, smooth(obesity_chi2_kendall['THE'], 5), label=\"THE\", fillstyle='none', marker='v', color='m', markersize=16, linewidth=2.2)\n",
    "plt.plot(epsilons, smooth(obesity_chi2_kendall['HR'], 5), label=\"HR\", fillstyle='none', marker='^', color='k', markersize=16, linewidth=2.2)\n",
    "plt.plot(epsilons, smooth(obesity_chi2_kendall['CMS'], 5), label=\"CMS\", fillstyle='none', marker='x', color='saddlebrown', markersize=16, linewidth=2.2)\n",
    "plt.plot(epsilons, smooth(obesity_chi2_kendall['RAPPOR'], 5), label=\"RAPPOR\", fillstyle='none', marker='o', color='g', markersize=16, linewidth=2.2)\n",
    "plt.xlabel(r'$\\epsilon$', fontsize=28)\n",
    "plt.ylabel(\"Kendall's Tau Distance\", fontsize=24)\n",
    "plt.xticks(epsilon_ticks, fontsize=24)\n",
    "plt.xticks(rotation=90) \n",
    "plt.yticks(fontsize=24)\n",
    "plt.ylim(top=0.6)\n",
    "plt.legend(ncol=2, prop={'size': 22})\n",
    "\n",
    "plt.savefig(\"./results/figures/obesity_chi2_kendall.pdf\", bbox_inches='tight')"
   ]
  },
  {
   "cell_type": "code",
   "execution_count": null,
   "metadata": {},
   "outputs": [],
   "source": [
    "fig  = plt.figure(figsize=(10,8))\n",
    "\n",
    "plt.plot(epsilons, smooth(splice_chi2_kendall['OLH'], 5), label=\"OLH\", fillstyle='none', marker='D', color='b', markersize=16, linewidth=2.2)\n",
    "plt.plot(epsilons, smooth(splice_chi2_kendall['OUE'], 5), label=\"OUE\", fillstyle='none', marker='s', color='r', markersize=16, linewidth=2.2)\n",
    "plt.plot(epsilons, smooth(splice_chi2_kendall['THE'], 5), label=\"THE\", fillstyle='none', marker='v', color='m', markersize=16, linewidth=2.2)\n",
    "plt.plot(epsilons, smooth(splice_chi2_kendall['HR'], 5), label=\"HR\", fillstyle='none', marker='^', color='k', markersize=16, linewidth=2.2)\n",
    "plt.plot(epsilons, smooth(splice_chi2_kendall['CMS'], 5), label=\"CMS\", fillstyle='none', marker='x', color='saddlebrown', markersize=16, linewidth=2.2)\n",
    "plt.plot(epsilons, smooth(splice_chi2_kendall['RAPPOR'], 5), label=\"RAPPOR\", fillstyle='none', marker='o', color='g', markersize=16, linewidth=2.2)\n",
    "plt.xlabel(r'$\\epsilon$', fontsize=28)\n",
    "plt.ylabel(\"Kendall's Tau Distance\", fontsize=24)\n",
    "plt.xticks(epsilon_ticks, fontsize=24)\n",
    "plt.xticks(rotation=90) \n",
    "plt.yticks(fontsize=24)\n",
    "plt.ylim(top=0.6)\n",
    "plt.legend(ncol=2, prop={'size': 22})\n",
    "\n",
    "plt.savefig(\"./results/figures/splice_chi2_kendall.pdf\", bbox_inches='tight')"
   ]
  },
  {
   "cell_type": "code",
   "execution_count": null,
   "metadata": {},
   "outputs": [],
   "source": [
    "OLH_kendall_arrays = [cmc_kendall['OLH'], nursery_kendall['OLH'], obesity_kendall['OLH'],\n",
    "              mushroom_kendall['OLH'], splice_kendall['OLH'], census_kendall['OLH']]\n",
    "OLH_kendall_means = [np.mean(k) for k in zip(*OLH_kendall_arrays)]\n",
    "\n",
    "OUE_kendall_arrays = [cmc_kendall['OUE'], nursery_kendall['OUE'], obesity_kendall['OUE'],\n",
    "              mushroom_kendall['OUE'], splice_kendall['OUE'], census_kendall['OUE']]\n",
    "OUE_kendall_means = [np.mean(k) for k in zip(*OUE_kendall_arrays)]\n",
    "\n",
    "THE_kendall_arrays = [cmc_kendall['THE'], nursery_kendall['THE'], obesity_kendall['THE'],\n",
    "              mushroom_kendall['THE'], splice_kendall['THE'], census_kendall['THE']]\n",
    "THE_kendall_means = [np.mean(k) for k in zip(*THE_kendall_arrays)]\n",
    "\n",
    "HR_kendall_arrays = [cmc_kendall['HR'], nursery_kendall['HR'], obesity_kendall['HR'],\n",
    "              mushroom_kendall['HR'], splice_kendall['HR'], census_kendall['HR']]\n",
    "HR_kendall_means = [np.mean(k) for k in zip(*HR_kendall_arrays)]\n",
    "\n",
    "CMS_kendall_arrays = [cmc_kendall['CMS'], nursery_kendall['CMS'], obesity_kendall['CMS'],\n",
    "              mushroom_kendall['CMS'], splice_kendall['CMS'], census_kendall['CMS']]\n",
    "CMS_kendall_means = [np.mean(k) for k in zip(*CMS_kendall_arrays)]\n",
    "\n",
    "RAPPOR_kendall_arrays = [cmc_kendall['RAPPOR'], nursery_kendall['RAPPOR'], obesity_kendall['RAPPOR'],\n",
    "              mushroom_kendall['RAPPOR'], splice_kendall['RAPPOR'], census_kendall['RAPPOR']]\n",
    "RAPPOR_kendall_means = [np.mean(k) for k in zip(*RAPPOR_kendall_arrays)]\n"
   ]
  }
 ],
 "metadata": {
  "kernelspec": {
   "display_name": "Python 3",
   "language": "python",
   "name": "python3"
  },
  "language_info": {
   "codemirror_mode": {
    "name": "ipython",
    "version": 3
   },
   "file_extension": ".py",
   "mimetype": "text/x-python",
   "name": "python",
   "nbconvert_exporter": "python",
   "pygments_lexer": "ipython3",
   "version": "3.6.8"
  }
 },
 "nbformat": 4,
 "nbformat_minor": 2
}
